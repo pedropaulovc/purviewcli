{
    "metadata": {
        "kernelspec": {
            "name": "powershell",
            "display_name": "PowerShell",
            "language": "powershell"
        },
        "language_info": {
            "name": "powershell",
            "codemirror_mode": "shell",
            "mimetype": "text/x-sh",
            "file_extension": ".ps1"
        }
    },
    "nbformat_minor": 2,
    "nbformat": 4,
    "cells": [
        {
            "cell_type": "markdown",
            "source": [
                "# Sources"
            ],
            "metadata": {
                "azdata_cell_guid": "01926273-6f46-42c8-b213-a576ebba3a36"
            }
        },
        {
            "cell_type": "markdown",
            "source": [
                "### **Pre-requisite**\n",
                "\n",
                "You will need to install the purviewcli package."
            ],
            "metadata": {
                "azdata_cell_guid": "f4c8843a-023d-4c34-9031-c89200ffbd20"
            }
        },
        {
            "cell_type": "code",
            "source": [
                "pip install purviewcli --upgrade"
            ],
            "metadata": {
                "azdata_cell_guid": "de59592a-3659-4b18-8109-429dd08bab9e"
            },
            "outputs": [],
            "execution_count": null
        },
        {
            "cell_type": "markdown",
            "source": [
                "### **1\\. Set the Environment Variable**  \n",
                "\n",
                "Before purviewcli can be used, the environment variable `PURVIEW_NAME` needs to be set."
            ],
            "metadata": {
                "azdata_cell_guid": "2e4b9eba-ebb8-46cd-a0f7-14a71ac64023"
            }
        },
        {
            "cell_type": "code",
            "source": [
                " $env:PURVIEW_NAME = \"purview-sandbox\""
            ],
            "metadata": {
                "azdata_cell_guid": "35d48d02-e04d-457b-a434-d12177d63213"
            },
            "outputs": [],
            "execution_count": null
        },
        {
            "cell_type": "markdown",
            "source": [
                "### **2\\. Create a Collection**"
            ],
            "metadata": {
                "azdata_cell_guid": "4700765b-b99d-442c-a4f1-842b79b3a17c"
            }
        },
        {
            "cell_type": "code",
            "source": [
                "pv scan createCollection --collection 'ParentCollection'"
            ],
            "metadata": {
                "azdata_cell_guid": "628e5250-16e5-4723-8874-52fc7f81b244"
            },
            "outputs": [],
            "execution_count": null
        },
        {
            "cell_type": "markdown",
            "source": [
                "### **3\\. Create a Collection under a Parent Collection**"
            ],
            "metadata": {
                "azdata_cell_guid": "6f5e6085-adba-484e-90c6-cd40e5082357"
            }
        },
        {
            "cell_type": "code",
            "source": [
                "pv scan createCollection --collection 'CollectionName' --parentCollection 'ParentCollection'"
            ],
            "metadata": {
                "azdata_cell_guid": "5f41645f-2fe2-49e6-9747-f07376e87e1e"
            },
            "outputs": [],
            "execution_count": null
        },
        {
            "cell_type": "markdown",
            "source": [
                "### **4\\. Delete a Collection**"
            ],
            "metadata": {
                "azdata_cell_guid": "dc03a668-ec75-4094-ad53-938b8023d53f"
            }
        },
        {
            "cell_type": "code",
            "source": [
                "pv scan deleteCollection --collection 'CollectionName'"
            ],
            "metadata": {
                "azdata_cell_guid": "718285d7-e343-465a-895c-f99456bdabb4"
            },
            "outputs": [],
            "execution_count": null
        },
        {
            "cell_type": "markdown",
            "source": [
                "### **5\\. Register a Source**"
            ],
            "metadata": {
                "azdata_cell_guid": "a0de54db-9321-4999-bd80-e36f36dc7465"
            }
        },
        {
            "cell_type": "code",
            "source": [
                "$datasource = 'MyDataLake'\n",
                "$kind = 'AdlsGen2'\n",
                "$endpoint = 'https://adlsname.dfs.core.windows.net/'\n",
                "$subscriptionId = '123456789'\n",
                "$resourceGroup = 'resourceGroupName'\n",
                "$location = 'resourceLocation'\n",
                "$resourceName = 'resourceName'\n",
                "$parentCollection = 'ParentCollection'\n",
                "pv scan createSource --datasource $datasource --kind $kind --endpoint $endpoint --subscriptionId $subscriptionId --resourceGroup $resourceGroup --location $location --resourceName $resourceName --parentCollection $parentCollection"
            ],
            "metadata": {
                "azdata_cell_guid": "1815dabb-592b-4c43-a89d-fa70edbdee4e"
            },
            "outputs": [],
            "execution_count": null
        },
        {
            "cell_type": "markdown",
            "source": [
                "### **6\\. Delete a Source**"
            ],
            "metadata": {
                "azdata_cell_guid": "9239ac53-e901-4d57-a51a-7d0b67cee7b9"
            }
        },
        {
            "cell_type": "code",
            "source": [
                "pv scan deleteSource --datasource 'MyDataLake'"
            ],
            "metadata": {
                "azdata_cell_guid": "30691a14-7e0a-42df-85da-88077f1b4d06"
            },
            "outputs": [],
            "execution_count": null
        },
        {
            "cell_type": "markdown",
            "source": [
                "### **7\\. Create Sources (Bulk)**"
            ],
            "metadata": {
                "azdata_cell_guid": "81fb0605-add4-47f2-a3fa-4e547bc201a9"
            }
        },
        {
            "cell_type": "code",
            "source": [
                "$accountUri = 'https://accountUri'\n",
                "$subscriptionId = 'subscriptionId'\n",
                "$resourceGroup = 'resourceGroup'\n",
                "$location = 'location'\n",
                "$resourceName = 'resourceName'\n",
                "$endpoint = 'https://endpoint'\n",
                "$adlsGen1Endpoint = 'https://contoso.azuredatalakestore.net'\n",
                "$adlsGen2Endpoint = 'https://contoso.dfs.core.windows.net'\n",
                "$azureStorageEndpoint = 'https://contoso.blob.core.windows.net'\n",
                "$azureFileServiceEndpoint = 'https://contoso.file.core.windows.net'\n",
                "$serverEndpoint = 'https://serverEndpoint'\n",
                "$azureSqlEndpoint = 'https://contoso.database.windows.net'\n",
                "$tenant = 'bbfef546-1a36-436c-8f63-51b264f34c91' # Dummy GUID\n",
                "$applicationServer = 'applicationServer'\n",
                "$systemNumber = 'systemNumber'\n",
                "$clusterUrl = 'clusterUrl'\n",
                "$_host = '_host'\n",
                "$roleARN = 'roleARN'\n",
                "$serviceUrl = 'https://serviceUrl'"
            ],
            "metadata": {
                "azdata_cell_guid": "25c2cef9-266d-4d6b-8030-7c28883f2301",
                "tags": [
                    "hide_input"
                ]
            },
            "outputs": [],
            "execution_count": null
        },
        {
            "cell_type": "code",
            "source": [
                "$Collections = \"Storage\", \"Azure-SQL\", \"Azure-Other\", \"Other\"\n",
                "ForEach ($Collection in $Collections) {\n",
                "    Invoke-Expression \"pv scan deleteCollection --collection $($Collection)\" | out-null\n",
                "}\n",
                "Write-Host \"Collections Deleted.\"\n",
                "\n",
                "$Sources = \"AzureCosmosDb\", \"AzureDataExplorer\", \"AdlsGen1\", \"AdlsGen2\", \"AzureStorage\", \"AzureFileService\", \"AzureSqlDatabase\", \"AzureSqlDataWarehouse\", \"SqlServerDatabase\", \"AzureSqlDatabaseManagedInstance\", \"PowerBI\", \"Teradata\", \"SapEcc\", \"SapS4Hana\", \"Hive\", \"AmazonS3\"\n",
                "ForEach ($Source in $Sources) {\n",
                "    Invoke-Expression \"pv scan deleteSource --datasource $($Source)\" | out-null\n",
                "    Write-Host \"Deleted $($Source)\"\n",
                "}"
            ],
            "metadata": {
                "azdata_cell_guid": "c45e56a0-26cf-48da-aadf-21ee8a517a2e",
                "tags": []
            },
            "outputs": [],
            "execution_count": null
        },
        {
            "cell_type": "code",
            "source": [
                "pv scan createCollection --collection 'Storage'\n",
                "pv scan createSource --datasource 'AdlsGen1' --kind 'AdlsGen1' --endpoint $adlsGen1Endpoint --subscriptionId $subscriptionId --resourceGroup $resourceGroup --location $location --resourceName $resourceName --parentCollection 'Storage'\n",
                "pv scan createSource --datasource 'AdlsGen2' --kind 'AdlsGen2' --endpoint $adlsGen2Endpoint --subscriptionId $subscriptionId --resourceGroup $resourceGroup --location $location --resourceName $resourceName --parentCollection 'Storage'\n",
                "pv scan createSource --datasource 'AzureStorage' --kind 'AzureStorage' --endpoint $azureStorageEndpoint --subscriptionId $subscriptionId --resourceGroup $resourceGroup --location $location --resourceName $resourceName --parentCollection 'Storage'\n",
                "pv scan createSource --datasource 'AzureFileService' --kind 'AzureFileService' --endpoint $azureFileServiceEndpoint --subscriptionId $subscriptionId --resourceGroup $resourceGroup --location $location --resourceName $resourceName --parentCollection 'Storage'\n",
                "\n",
                "pv scan createCollection --collection 'Azure-SQL'\n",
                "pv scan createSource --datasource 'AzureSqlDatabase' --kind 'AzureSqlDatabase' --serverEndpoint $azureSqlEndpoint --subscriptionId $subscriptionId --resourceGroup $resourceGroup --location $location --resourceName $resourceName --parentCollection 'Azure-SQL'\n",
                "pv scan createSource --datasource 'AzureSqlDataWarehouse' --kind 'AzureSqlDataWarehouse' --serverEndpoint $serverEndpoint --subscriptionId $subscriptionId --resourceGroup $resourceGroup --location $location --resourceName $resourceName --parentCollection 'Azure-SQL'\n",
                "pv scan createSource --datasource 'SqlServerDatabase' --kind 'SqlServerDatabase' --serverEndpoint $serverEndpoint --parentCollection 'Azure-SQL'\n",
                "pv scan createSource --datasource 'AzureSqlDatabaseManagedInstance' --kind 'AzureSqlDatabaseManagedInstance' --serverEndpoint $serverEndpoint --subscriptionId $subscriptionId --resourceGroup $resourceGroup --location $location --resourceName $resourceName --parentCollection 'Azure-SQL'\n",
                "\n",
                "pv scan createCollection --collection 'Azure-Other'\n",
                "pv scan createSource --datasource 'AzureCosmosDb' --kind 'AzureCosmosDb' --accountUri $accountUri --subscriptionId $subscriptionId --resourceGroup $resourceGroup --location $location --resourceName $resourceName --parentCollection 'Azure-Other'\n",
                "pv scan createSource --datasource 'AzureDataExplorer' --kind 'AzureDataExplorer' --endpoint $endpoint --subscriptionId $subscriptionId --resourceGroup $resourceGroup --location $location --resourceName $resourceName --parentCollection 'Azure-Other'\n",
                "\n",
                "pv scan createCollection --collection 'Other'\n",
                "pv scan createSource --datasource 'PowerBI' --kind 'PowerBI' --tenant $tenant --parentCollection 'Other'\n",
                "pv scan createSource --datasource 'Teradata' --kind 'Teradata' --host $_host --parentCollection 'Other'\n",
                "pv scan createSource --datasource 'SapEcc' --kind 'SapEcc' --applicationServer $applicationServer --systemNumber $systemNumber --parentCollection 'Other'\n",
                "pv scan createSource --datasource 'SapS4Hana' --kind 'SapS4Hana' --applicationServer $applicationServer --systemNumber $systemNumber --parentCollection 'Other'\n",
                "pv scan createSource --datasource 'Hive' --kind 'Hive' --clusterUrl $clusterUrl --host $_host --parentCollection 'Other'\n",
                "pv scan createSource --datasource 'AmazonS3' --kind 'AmazonS3' --roleARN $roleARN --serviceUrl $serviceUrl --parentCollection 'Other'"
            ],
            "metadata": {
                "azdata_cell_guid": "e043cc99-cbf2-4911-87c1-b0b7b47efe84"
            },
            "outputs": [],
            "execution_count": null
        }
    ]
}
